{
 "cells": [
  {
   "cell_type": "markdown",
   "id": "dd29f650",
   "metadata": {},
   "source": [
    "### This is a rough notebook which was used for the visualizations and results. Just attached for reference."
   ]
  },
  {
   "cell_type": "code",
   "execution_count": 1,
   "id": "a23eaa90",
   "metadata": {},
   "outputs": [],
   "source": [
    "import numpy as np\n",
    "import pandas as pd"
   ]
  },
  {
   "cell_type": "code",
   "execution_count": 2,
   "id": "4885da5a",
   "metadata": {},
   "outputs": [],
   "source": [
    "import os\n",
    "import pickle"
   ]
  },
  {
   "cell_type": "code",
   "execution_count": 3,
   "id": "5c69e151",
   "metadata": {},
   "outputs": [],
   "source": [
    "data = pd.read_csv(\"../Data/Data-LinksAdded.csv\")"
   ]
  },
  {
   "cell_type": "code",
   "execution_count": 4,
   "id": "3e43da91",
   "metadata": {
    "scrolled": true
   },
   "outputs": [
    {
     "data": {
      "text/html": [
       "<div>\n",
       "<style scoped>\n",
       "    .dataframe tbody tr th:only-of-type {\n",
       "        vertical-align: middle;\n",
       "    }\n",
       "\n",
       "    .dataframe tbody tr th {\n",
       "        vertical-align: top;\n",
       "    }\n",
       "\n",
       "    .dataframe thead th {\n",
       "        text-align: right;\n",
       "    }\n",
       "</style>\n",
       "<table border=\"1\" class=\"dataframe\">\n",
       "  <thead>\n",
       "    <tr style=\"text-align: right;\">\n",
       "      <th></th>\n",
       "      <th>Unnamed: 0</th>\n",
       "      <th>type</th>\n",
       "      <th>posts</th>\n",
       "    </tr>\n",
       "  </thead>\n",
       "  <tbody>\n",
       "    <tr>\n",
       "      <th>0</th>\n",
       "      <td>0</td>\n",
       "      <td>INFJ</td>\n",
       "      <td>enfp and intj moments     sportscente...</td>\n",
       "    </tr>\n",
       "    <tr>\n",
       "      <th>1</th>\n",
       "      <td>1</td>\n",
       "      <td>ENTP</td>\n",
       "      <td>i m finding the lack of me in these posts ver...</td>\n",
       "    </tr>\n",
       "    <tr>\n",
       "      <th>2</th>\n",
       "      <td>2</td>\n",
       "      <td>INTP</td>\n",
       "      <td>good one              of course  to which i s...</td>\n",
       "    </tr>\n",
       "    <tr>\n",
       "      <th>3</th>\n",
       "      <td>3</td>\n",
       "      <td>INTJ</td>\n",
       "      <td>dear intp    i enjoyed our conversation the o...</td>\n",
       "    </tr>\n",
       "    <tr>\n",
       "      <th>4</th>\n",
       "      <td>4</td>\n",
       "      <td>ENTJ</td>\n",
       "      <td>you re fired    that s another silly misconce...</td>\n",
       "    </tr>\n",
       "  </tbody>\n",
       "</table>\n",
       "</div>"
      ],
      "text/plain": [
       "   Unnamed: 0  type                                              posts\n",
       "0           0  INFJ           enfp and intj moments     sportscente...\n",
       "1           1  ENTP   i m finding the lack of me in these posts ver...\n",
       "2           2  INTP   good one              of course  to which i s...\n",
       "3           3  INTJ   dear intp    i enjoyed our conversation the o...\n",
       "4           4  ENTJ   you re fired    that s another silly misconce..."
      ]
     },
     "execution_count": 4,
     "metadata": {},
     "output_type": "execute_result"
    }
   ],
   "source": [
    "data.head()"
   ]
  },
  {
   "cell_type": "code",
   "execution_count": 5,
   "id": "3c44af22",
   "metadata": {},
   "outputs": [],
   "source": [
    "from nltk.stem import WordNetLemmatizer\n",
    "\n",
    "class Lemmatizer(object):\n",
    "    def __init__(self):\n",
    "        self.lemmatizer = WordNetLemmatizer()\n",
    "    def __call__(self, sentence):\n",
    "        return [self.lemmatizer.lemmatize(word) for word in sentence.split() if len(word)>2]"
   ]
  },
  {
   "cell_type": "code",
   "execution_count": 6,
   "id": "053b616c",
   "metadata": {},
   "outputs": [],
   "source": [
    "with open('models/vectorizer.pk', 'rb') as f:\n",
    "    vectorizer = pickle.load(f)\n",
    "\n",
    "# with open('models/model_cat-Links+.pkl', 'rb') as f:\n",
    "#     model = pickle.load(f)\n",
    "\n",
    "with open('models/target-encoder.pk', 'rb') as f:\n",
    "    labelEncoder = pickle.load(f)"
   ]
  },
  {
   "cell_type": "code",
   "execution_count": 7,
   "id": "24d2db57",
   "metadata": {},
   "outputs": [],
   "source": [
    "# data.posts = vectorizer.transform([data.posts]).toarray()"
   ]
  },
  {
   "cell_type": "code",
   "execution_count": 8,
   "id": "5856daa3",
   "metadata": {},
   "outputs": [],
   "source": [
    "# Stratify split to ensure equal distribution of data\n",
    "from sklearn.model_selection import train_test_split\n",
    "\n",
    "train_post,test_post, train_target, test_target = train_test_split(data['posts'], data['type'] ,test_size=0.20,random_state=42,stratify=data['type'])"
   ]
  },
  {
   "cell_type": "code",
   "execution_count": 9,
   "id": "fbd0a258",
   "metadata": {},
   "outputs": [],
   "source": [
    "from tqdm import tqdm\n",
    "import re"
   ]
  },
  {
   "cell_type": "code",
   "execution_count": 10,
   "id": "9b47c213",
   "metadata": {},
   "outputs": [],
   "source": [
    "def clear_text(data):\n",
    "    data_length=[]\n",
    "    lemmatizer=WordNetLemmatizer()\n",
    "    cleaned_text=[]\n",
    "\n",
    "    for sentence in tqdm(data):\n",
    "        \n",
    "#         print(sentence)\n",
    "\n",
    "        sentence=sentence.lower()\n",
    "        \n",
    "        # tempLinks = [i[0] for i in re.findall('((http|ftp|https):\\/\\/([\\w_-]+(?:(?:\\.[\\w_-]+)+))([\\w.,@?^=%&:\\/~+#-]*[\\w@?^=%&\\/~+#-]))', sentence)]\n",
    "\n",
    "        # tempLinks = [i for i in tempLinks if 'youtube' in i or 'youtu.be' in i or 'vimeo' in i or 'personalitycafe' in i]\n",
    "\n",
    "        sentence=re.sub('((http|ftp|https):\\/\\/([\\w_-]+(?:(?:\\.[\\w_-]+)+))([\\w.,@?^=%&:\\/~+#-]*[\\w@?^=%&\\/~+#-]))', ' ' ,sentence)\n",
    "\n",
    "        # sentence += replaceLinks(tempLinks)\n",
    "\n",
    "        sentence=re.sub('[^0-9a-z]',' ',sentence)\n",
    "    \n",
    "        \n",
    "        data_length.append(len(sentence.split()))\n",
    "        cleaned_text.append(sentence)\n",
    "\n",
    "    return cleaned_text,data_length"
   ]
  },
  {
   "cell_type": "code",
   "execution_count": 11,
   "id": "6444d3a9",
   "metadata": {},
   "outputs": [
    {
     "name": "stderr",
     "output_type": "stream",
     "text": [
      "100%|████████████████████████████████████████████████████████████████████████████| 1735/1735 [00:00<00:00, 2275.77it/s]\n"
     ]
    }
   ],
   "source": [
    "test_post, test_length = clear_text(test_post)"
   ]
  },
  {
   "cell_type": "code",
   "execution_count": 12,
   "id": "a342f9c0",
   "metadata": {},
   "outputs": [
    {
     "name": "stderr",
     "output_type": "stream",
     "text": [
      "C:\\Users\\Sashank Kakaraparty\\AppData\\Roaming\\Python\\Python37\\site-packages\\sklearn\\feature_extraction\\text.py:401: UserWarning: Your stop_words may be inconsistent with your preprocessing. Tokenizing the stop words generated tokens ['ha', 'le', 'wa'] not in stop_words.\n",
      "  % sorted(inconsistent)\n"
     ]
    }
   ],
   "source": [
    "data_posts = vectorizer.transform(test_post).toarray()"
   ]
  },
  {
   "cell_type": "code",
   "execution_count": null,
   "id": "281f3a6d",
   "metadata": {},
   "outputs": [],
   "source": []
  },
  {
   "cell_type": "code",
   "execution_count": 38,
   "id": "acc291ce",
   "metadata": {},
   "outputs": [
    {
     "name": "stdout",
     "output_type": "stream",
     "text": [
      "[0, 1, 2, 3, 4, 5, 6, 7, 8, 9, 10, 11, 12, 13, 14, 15]\n",
      "model_cat-Links.pkl\n",
      "['ENFJ'] --AUC---> 0.59\n",
      "['ENFP'] --AUC---> 0.94\n",
      "['ENTJ'] --AUC---> 0.5\n",
      "['ENTP'] --AUC---> 0.5\n",
      "['ESFJ'] --AUC---> 0.68\n",
      "['ESFP'] --AUC---> 0.7\n",
      "['ESTJ'] --AUC---> 0.73\n",
      "['ESTP'] --AUC---> 0.5\n",
      "['INFJ'] --AUC---> 0.45\n",
      "['INFP'] --AUC---> 0.49\n",
      "['INTJ'] --AUC---> 0.49\n",
      "['INTP'] --AUC---> 0.3\n",
      "['ISFJ'] --AUC---> 0.47\n",
      "['ISFP'] --AUC---> 0.49\n",
      "['ISTJ'] --AUC---> 0.6\n",
      "['ISTP'] --AUC---> 0.42\n"
     ]
    }
   ],
   "source": [
    "from sklearn.metrics import f1_score\n",
    "from sklearn.metrics import accuracy_score\n",
    "from sklearn.metrics import roc_auc_score\n",
    "import sklearn.metrics as metrics\n",
    "\n",
    "# modelAccuracy = {}\n",
    "# modelF1 = {}\n",
    "CATmodelAUC = {}\n",
    "\n",
    "models = os.listdir('models/bestModels')\n",
    "\n",
    "# with open('models/vectorizer.pk', 'rb') as f:\n",
    "#     vectorizer = pickle.load(f)\n",
    "\n",
    "# # with open('models/model_cat-Links+.pkl', 'rb') as f:\n",
    "# #     model = pickle.load(f)\n",
    "\n",
    "# with open('models/target-encoder.pk', 'rb') as f:\n",
    "#     labelEncoder = pickle.load(f)\n",
    "\n",
    "\n",
    "test_target_enc = labelEncoder.transform(test_target)\n",
    "d = np.unique(test_target_enc)\n",
    "class_name = list(d.flatten())\n",
    "\n",
    "print(class_name)\n",
    "\n",
    "for modelName in models[:1]:\n",
    "    if '.pkl' in modelName and 'xgb' not in modelName:\n",
    "        with open(f'models/{modelName}', 'rb') as f:\n",
    "            model = pickle.load(f)\n",
    "            \n",
    "        print(modelName)\n",
    "        for p in class_name:\n",
    "            fpr, tpr, thresholds = metrics.roc_curve(test_target_enc,  \n",
    "                model.predict_proba(data_posts)[:,1], pos_label = p) \n",
    "\n",
    "            auroc = round(metrics.auc(fpr, tpr),2)\n",
    "            print(labelEncoder.inverse_transform([p]),'--AUC--->',auroc)\n",
    "            CATmodelAUC[labelEncoder.inverse_transform([p])[0]] = auroc\n",
    "#         pred_y = model.predict(data_posts)\n",
    "#         modelAccuracy[modelName] = accuracy_score(test_target_enc, pred_y)\n",
    "#         modelF1[modelName] = f1_score(test_target_enc, pred_y, average = 'weighted')\n",
    "#         modelAUC[modelName] = roc_auc_score(test_target_enc, pred_y, multi_class=\"ovr\")\n",
    "#         print(\"Hola?\")\n",
    "''#         print(modelName,labelEncoder.inverse_transform(model.predict(target_text)))"
   ]
  },
  {
   "cell_type": "code",
   "execution_count": 39,
   "id": "619c0d2d",
   "metadata": {},
   "outputs": [
    {
     "data": {
      "text/plain": [
       "{'ENFJ': 0.59,\n",
       " 'ENFP': 0.94,\n",
       " 'ENTJ': 0.5,\n",
       " 'ENTP': 0.5,\n",
       " 'ESFJ': 0.68,\n",
       " 'ESFP': 0.7,\n",
       " 'ESTJ': 0.73,\n",
       " 'ESTP': 0.5,\n",
       " 'INFJ': 0.45,\n",
       " 'INFP': 0.49,\n",
       " 'INTJ': 0.49,\n",
       " 'INTP': 0.3,\n",
       " 'ISFJ': 0.47,\n",
       " 'ISFP': 0.49,\n",
       " 'ISTJ': 0.6,\n",
       " 'ISTP': 0.42}"
      ]
     },
     "execution_count": 39,
     "metadata": {},
     "output_type": "execute_result"
    }
   ],
   "source": [
    "CATmodelAUC"
   ]
  },
  {
   "cell_type": "code",
   "execution_count": 16,
   "id": "b829a6a6",
   "metadata": {},
   "outputs": [
    {
     "data": {
      "text/plain": [
       "{'Final-model_cat.pkl': 0.11702138806610543,\n",
       " 'Final-model_LG-Reg.pkl': 0.09665483431120664,\n",
       " 'Final-model_linear_svc.pkl': 0.11824317625042956,\n",
       " 'model_cat-Links++.pkl': 0.11559457555709683,\n",
       " 'model_cat-Links+.pkl': 0.09557963763864076,\n",
       " 'model_cat-Links.pkl': 0.6622121579620625,\n",
       " 'model_cat.pkl': 0.5647772366657065,\n",
       " 'model_forest.pkl': 0.3607481000764678,\n",
       " 'model_LG-Reg-Links++.pkl': 0.1005817614912371,\n",
       " 'model_LG-Reg-Links.pkl': 0.5932833822254262,\n",
       " 'model_LG-Reg.pkl': 0.48925574148444084,\n",
       " 'model_linear_svc-Links+.pkl': 0.16287815364873937,\n",
       " 'model_linear_svc-Links.pkl': 0.648381537449463,\n",
       " 'model_linear_svc.pkl': 0.5501386897449357,\n",
       " 'model_multinomial_nb.pkl': 0.3566652628584359,\n",
       " 'model_svc-Links_ol.pkl': 0.6315499699166497,\n",
       " 'model_svc.pkl': 0.49727813723252723,\n",
       " 'model_tree.pkl': 0.44997060590231464}"
      ]
     },
     "execution_count": 16,
     "metadata": {},
     "output_type": "execute_result"
    }
   ],
   "source": [
    "modelF1"
   ]
  },
  {
   "cell_type": "code",
   "execution_count": 20,
   "id": "fcabdd9a",
   "metadata": {},
   "outputs": [
    {
     "data": {
      "text/plain": [
       "{'Final-model_cat.pkl': 0.145821325648415,\n",
       " 'Final-model_LG-Reg.pkl': 0.14755043227665707,\n",
       " 'Final-model_linear_svc.pkl': 0.14236311239193083,\n",
       " 'model_cat-Links++.pkl': 0.1435158501440922,\n",
       " 'model_cat-Links+.pkl': 0.1377521613832853,\n",
       " 'model_cat-Links.pkl': 0.6731988472622479,\n",
       " 'model_cat.pkl': 0.5988472622478386,\n",
       " 'model_forest.pkl': 0.4507204610951009,\n",
       " 'model_LG-Reg-Links++.pkl': 0.15043227665706052,\n",
       " 'model_LG-Reg-Links.pkl': 0.6293948126801153,\n",
       " 'model_LG-Reg.pkl': 0.5515850144092219,\n",
       " 'model_linear_svc-Links+.pkl': 0.20288184438040346,\n",
       " 'model_linear_svc-Links.pkl': 0.6651296829971182,\n",
       " 'model_linear_svc.pkl': 0.5919308357348703,\n",
       " 'model_multinomial_nb.pkl': 0.4334293948126801,\n",
       " 'model_svc-Links_ol.pkl': 0.6495677233429394,\n",
       " 'model_svc.pkl': 0.5527377521613833,\n",
       " 'model_tree.pkl': 0.4783861671469741}"
      ]
     },
     "execution_count": 20,
     "metadata": {},
     "output_type": "execute_result"
    }
   ],
   "source": [
    "modelAccuracy"
   ]
  },
  {
   "cell_type": "code",
   "execution_count": 22,
   "id": "290aee68",
   "metadata": {},
   "outputs": [],
   "source": [
    "pd.DataFrame(modelAccuracy.items(), columns=[\"Model\", \"Accuracy\"]).to_csv(\"../../Report/ModelAcc.csv\")"
   ]
  },
  {
   "cell_type": "code",
   "execution_count": 40,
   "id": "63417754",
   "metadata": {},
   "outputs": [],
   "source": [
    "pd.DataFrame(CATmodelAUC.items(), columns=['Class', 'AUC']).to_csv(\"../../Report/AUCVals.csv\")"
   ]
  },
  {
   "cell_type": "code",
   "execution_count": null,
   "id": "47466089",
   "metadata": {},
   "outputs": [],
   "source": []
  },
  {
   "cell_type": "code",
   "execution_count": 94,
   "id": "e1f63a10",
   "metadata": {},
   "outputs": [],
   "source": [
    "data = pd.read_csv(\"../../Report/Tables/F1+Accuracy.csv\")"
   ]
  },
  {
   "cell_type": "code",
   "execution_count": 95,
   "id": "77831b45",
   "metadata": {},
   "outputs": [
    {
     "data": {
      "text/html": [
       "<div>\n",
       "<style scoped>\n",
       "    .dataframe tbody tr th:only-of-type {\n",
       "        vertical-align: middle;\n",
       "    }\n",
       "\n",
       "    .dataframe tbody tr th {\n",
       "        vertical-align: top;\n",
       "    }\n",
       "\n",
       "    .dataframe thead th {\n",
       "        text-align: right;\n",
       "    }\n",
       "</style>\n",
       "<table border=\"1\" class=\"dataframe\">\n",
       "  <thead>\n",
       "    <tr style=\"text-align: right;\">\n",
       "      <th></th>\n",
       "      <th>Model</th>\n",
       "      <th>F1</th>\n",
       "      <th>Accuracy</th>\n",
       "    </tr>\n",
       "  </thead>\n",
       "  <tbody>\n",
       "    <tr>\n",
       "      <th>0</th>\n",
       "      <td>CAT Boost</td>\n",
       "      <td>0.662212</td>\n",
       "      <td>0.673199</td>\n",
       "    </tr>\n",
       "    <tr>\n",
       "      <th>1</th>\n",
       "      <td>Linear SVC</td>\n",
       "      <td>0.648382</td>\n",
       "      <td>0.665130</td>\n",
       "    </tr>\n",
       "    <tr>\n",
       "      <th>2</th>\n",
       "      <td>XGBoost</td>\n",
       "      <td>0.631550</td>\n",
       "      <td>0.649568</td>\n",
       "    </tr>\n",
       "    <tr>\n",
       "      <th>3</th>\n",
       "      <td>Neural Network</td>\n",
       "      <td>0.620000</td>\n",
       "      <td>0.640000</td>\n",
       "    </tr>\n",
       "    <tr>\n",
       "      <th>4</th>\n",
       "      <td>SVC</td>\n",
       "      <td>0.600000</td>\n",
       "      <td>0.610000</td>\n",
       "    </tr>\n",
       "    <tr>\n",
       "      <th>5</th>\n",
       "      <td>Logistic Regression</td>\n",
       "      <td>0.590000</td>\n",
       "      <td>0.620000</td>\n",
       "    </tr>\n",
       "    <tr>\n",
       "      <th>6</th>\n",
       "      <td>Random Forest</td>\n",
       "      <td>0.510000</td>\n",
       "      <td>0.490000</td>\n",
       "    </tr>\n",
       "  </tbody>\n",
       "</table>\n",
       "</div>"
      ],
      "text/plain": [
       "                 Model        F1  Accuracy\n",
       "0            CAT Boost  0.662212  0.673199\n",
       "1           Linear SVC  0.648382  0.665130\n",
       "2              XGBoost  0.631550  0.649568\n",
       "3       Neural Network  0.620000  0.640000\n",
       "4                  SVC  0.600000  0.610000\n",
       "5  Logistic Regression  0.590000  0.620000\n",
       "6        Random Forest  0.510000  0.490000"
      ]
     },
     "execution_count": 95,
     "metadata": {},
     "output_type": "execute_result"
    }
   ],
   "source": [
    "data"
   ]
  },
  {
   "cell_type": "code",
   "execution_count": 96,
   "id": "5c3d3d3a",
   "metadata": {},
   "outputs": [
    {
     "data": {
      "image/png": "[encoded data removed]",
      "text/plain": [
       "<Figure size 1800x720 with 2 Axes>"
      ]
     },
     "metadata": {},
     "output_type": "display_data"
    }
   ],
   "source": [
    "import numpy as np\n",
    "import seaborn as sns\n",
    "import matplotlib.pyplot as plt\n",
    "sns.set_theme(style=\"white\", context=\"talk\")\n",
    "rs = np.random.RandomState(8)\n",
    "\n",
    "# Set up the matplotlib figure\n",
    "f, (ax1, ax2) = plt.subplots(2, 1, figsize=(25, 10), sharex=True)\n",
    "\n",
    "# Generate some sequential data\n",
    "x = data['Model'] \n",
    "y1 = data['F1']\n",
    "sns.barplot(x=x, y=y1, palette=\"deep\", ax=ax1).set_ylim(0,0.70)\n",
    "ax1.axhline(0, color=\"k\", clip_on=False)\n",
    "ax1.set_ylabel(\"F1-Scores\")\n",
    "\n",
    "# Center the data to make it diverging\n",
    "y2 = data['Accuracy']\n",
    "sns.barplot(x=x, y=y2, palette=\"rocket\", ax=ax2).set_ylim(0,0.70)\n",
    "ax2.axhline(0, color=\"k\", clip_on=False)\n",
    "ax2.set_ylabel(\"Accuracies\")\n",
    "\n",
    "for p in ax1.patches:\n",
    "    ax1.annotate(\"%.2f\" % p.get_height(), (p.get_x() + p.get_width() / 2., p.get_height()),\n",
    "                ha='center', va='center', weight='bold', fontsize=15, color='black', xytext=(0, 20),\n",
    "                textcoords='offset points')\n",
    "    \n",
    "for p in ax2.patches:\n",
    "    ax2.annotate(\"%.2f\" % p.get_height(), (p.get_x() + p.get_width() / 2., p.get_height()),\n",
    "                ha='center', va='center', weight='bold', fontsize=15, color='black', xytext=(0, 20),\n",
    "                textcoords='offset points')\n",
    "# _ = g.set_ylim(0,120) #To make space for the annotations\n",
    "\n",
    "sns.despine(bottom=True)\n",
    "plt.setp(f.axes, yticks=[])\n",
    "plt.tight_layout(h_pad=2)\n",
    "plt.savefig('../../Report/Plots/ModelAccuracies+F1.png', dpi=64)"
   ]
  },
  {
   "cell_type": "code",
   "execution_count": 90,
   "id": "4c8ed642",
   "metadata": {},
   "outputs": [],
   "source": [
    "data = pd.read_csv(\"../../Report/Tables/AUCVals.csv\")"
   ]
  },
  {
   "cell_type": "code",
   "execution_count": 91,
   "id": "dabd546d",
   "metadata": {},
   "outputs": [
    {
     "data": {
      "text/html": [
       "<div>\n",
       "<style scoped>\n",
       "    .dataframe tbody tr th:only-of-type {\n",
       "        vertical-align: middle;\n",
       "    }\n",
       "\n",
       "    .dataframe tbody tr th {\n",
       "        vertical-align: top;\n",
       "    }\n",
       "\n",
       "    .dataframe thead th {\n",
       "        text-align: right;\n",
       "    }\n",
       "</style>\n",
       "<table border=\"1\" class=\"dataframe\">\n",
       "  <thead>\n",
       "    <tr style=\"text-align: right;\">\n",
       "      <th></th>\n",
       "      <th>Unnamed: 0</th>\n",
       "      <th>Class</th>\n",
       "      <th>AUC</th>\n",
       "    </tr>\n",
       "  </thead>\n",
       "  <tbody>\n",
       "    <tr>\n",
       "      <th>0</th>\n",
       "      <td>0</td>\n",
       "      <td>ENFJ</td>\n",
       "      <td>0.59</td>\n",
       "    </tr>\n",
       "    <tr>\n",
       "      <th>1</th>\n",
       "      <td>1</td>\n",
       "      <td>ENFP</td>\n",
       "      <td>0.94</td>\n",
       "    </tr>\n",
       "    <tr>\n",
       "      <th>2</th>\n",
       "      <td>2</td>\n",
       "      <td>ENTJ</td>\n",
       "      <td>0.50</td>\n",
       "    </tr>\n",
       "    <tr>\n",
       "      <th>3</th>\n",
       "      <td>3</td>\n",
       "      <td>ENTP</td>\n",
       "      <td>0.50</td>\n",
       "    </tr>\n",
       "    <tr>\n",
       "      <th>4</th>\n",
       "      <td>4</td>\n",
       "      <td>ESFJ</td>\n",
       "      <td>0.68</td>\n",
       "    </tr>\n",
       "    <tr>\n",
       "      <th>5</th>\n",
       "      <td>5</td>\n",
       "      <td>ESFP</td>\n",
       "      <td>0.70</td>\n",
       "    </tr>\n",
       "    <tr>\n",
       "      <th>6</th>\n",
       "      <td>6</td>\n",
       "      <td>ESTJ</td>\n",
       "      <td>0.73</td>\n",
       "    </tr>\n",
       "    <tr>\n",
       "      <th>7</th>\n",
       "      <td>7</td>\n",
       "      <td>ESTP</td>\n",
       "      <td>0.50</td>\n",
       "    </tr>\n",
       "    <tr>\n",
       "      <th>8</th>\n",
       "      <td>8</td>\n",
       "      <td>INFJ</td>\n",
       "      <td>0.45</td>\n",
       "    </tr>\n",
       "    <tr>\n",
       "      <th>9</th>\n",
       "      <td>9</td>\n",
       "      <td>INFP</td>\n",
       "      <td>0.49</td>\n",
       "    </tr>\n",
       "    <tr>\n",
       "      <th>10</th>\n",
       "      <td>10</td>\n",
       "      <td>INTJ</td>\n",
       "      <td>0.49</td>\n",
       "    </tr>\n",
       "    <tr>\n",
       "      <th>11</th>\n",
       "      <td>11</td>\n",
       "      <td>INTP</td>\n",
       "      <td>0.30</td>\n",
       "    </tr>\n",
       "    <tr>\n",
       "      <th>12</th>\n",
       "      <td>12</td>\n",
       "      <td>ISFJ</td>\n",
       "      <td>0.47</td>\n",
       "    </tr>\n",
       "    <tr>\n",
       "      <th>13</th>\n",
       "      <td>13</td>\n",
       "      <td>ISFP</td>\n",
       "      <td>0.49</td>\n",
       "    </tr>\n",
       "    <tr>\n",
       "      <th>14</th>\n",
       "      <td>14</td>\n",
       "      <td>ISTJ</td>\n",
       "      <td>0.60</td>\n",
       "    </tr>\n",
       "    <tr>\n",
       "      <th>15</th>\n",
       "      <td>15</td>\n",
       "      <td>ISTP</td>\n",
       "      <td>0.42</td>\n",
       "    </tr>\n",
       "  </tbody>\n",
       "</table>\n",
       "</div>"
      ],
      "text/plain": [
       "    Unnamed: 0 Class   AUC\n",
       "0            0  ENFJ  0.59\n",
       "1            1  ENFP  0.94\n",
       "2            2  ENTJ  0.50\n",
       "3            3  ENTP  0.50\n",
       "4            4  ESFJ  0.68\n",
       "5            5  ESFP  0.70\n",
       "6            6  ESTJ  0.73\n",
       "7            7  ESTP  0.50\n",
       "8            8  INFJ  0.45\n",
       "9            9  INFP  0.49\n",
       "10          10  INTJ  0.49\n",
       "11          11  INTP  0.30\n",
       "12          12  ISFJ  0.47\n",
       "13          13  ISFP  0.49\n",
       "14          14  ISTJ  0.60\n",
       "15          15  ISTP  0.42"
      ]
     },
     "execution_count": 91,
     "metadata": {},
     "output_type": "execute_result"
    }
   ],
   "source": [
    "data"
   ]
  },
  {
   "cell_type": "code",
   "execution_count": 92,
   "id": "993cf664",
   "metadata": {},
   "outputs": [
    {
     "data": {
      "image/png": "[encoded data removed]",
      "text/plain": [
       "<Figure size 432x504 with 1 Axes>"
      ]
     },
     "metadata": {},
     "output_type": "display_data"
    }
   ],
   "source": [
    "import seaborn as sns\n",
    "import matplotlib.pyplot as plt\n",
    "sns.set_theme(style=\"whitegrid\")\n",
    "\n",
    "# Initialize the matplotlib figure\n",
    "f, ax = plt.subplots(figsize=(6, 7))\n",
    "\n",
    "# Plot the total crashes\n",
    "sns.set_color_codes(\"pastel\")\n",
    "sns.barplot(x=\"AUC\", y=\"Class\", data=data,\n",
    "            label=\"ROC-AUC Scores\", color=\"b\")\n",
    "\n",
    "# Add a legend and informative axis label\n",
    "ax.legend(ncol=2, loc=\"lower right\", frameon=True)\n",
    "ax.set(xlim=(0, 1), ylabel=\"\",\n",
    "       xlabel=\"ROC-AUC Scores for each class using CatBoost\")\n",
    "sns.despine(left=True, bottom=True)\n",
    "\n",
    "plt.savefig('../../Report/Plots/ACUs.png', dpi=64)"
   ]
  },
  {
   "cell_type": "code",
   "execution_count": null,
   "id": "cebdc8a2",
   "metadata": {},
   "outputs": [],
   "source": []
  }
 ],
 "metadata": {
  "kernelspec": {
   "display_name": "Python 3 (ipykernel)",
   "language": "python",
   "name": "python3"
  },
  "language_info": {
   "codemirror_mode": {
    "name": "ipython",
    "version": 3
   },
   "file_extension": ".py",
   "mimetype": "text/x-python",
   "name": "python",
   "nbconvert_exporter": "python",
   "pygments_lexer": "ipython3",
   "version": "3.7.11"
  }
 },
 "nbformat": 4,
 "nbformat_minor": 5
}

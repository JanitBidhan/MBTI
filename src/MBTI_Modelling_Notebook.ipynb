{
 "cells": [
  {
   "cell_type": "markdown",
   "id": "xD-8m0VzBXwG",
   "metadata": {
    "id": "xD-8m0VzBXwG"
   },
   "source": [
    "# MBTI Modelling Notebook"
   ]
  },
  {
   "cell_type": "code",
   "execution_count": null,
   "id": "yYhbSjhEHiqY",
   "metadata": {
    "colab": {
     "base_uri": "https://localhost:8080/"
    },
    "id": "yYhbSjhEHiqY",
    "outputId": "c37db8c9-90a7-4ff8-c208-760187ae0935"
   },
   "outputs": [
    {
     "name": "stdout",
     "output_type": "stream",
     "text": [
      "Requirement already satisfied: catboost in /usr/local/lib/python3.7/dist-packages (1.0.3)\n",
      "Requirement already satisfied: six in /usr/local/lib/python3.7/dist-packages (from catboost) (1.15.0)\n",
      "Requirement already satisfied: scipy in /usr/local/lib/python3.7/dist-packages (from catboost) (1.4.1)\n",
      "Requirement already satisfied: pandas>=0.24.0 in /usr/local/lib/python3.7/dist-packages (from catboost) (1.1.5)\n",
      "Requirement already satisfied: matplotlib in /usr/local/lib/python3.7/dist-packages (from catboost) (3.2.2)\n",
      "Requirement already satisfied: graphviz in /usr/local/lib/python3.7/dist-packages (from catboost) (0.10.1)\n",
      "Requirement already satisfied: plotly in /usr/local/lib/python3.7/dist-packages (from catboost) (4.4.1)\n",
      "Requirement already satisfied: numpy>=1.16.0 in /usr/local/lib/python3.7/dist-packages (from catboost) (1.19.5)\n",
      "Requirement already satisfied: pytz>=2017.2 in /usr/local/lib/python3.7/dist-packages (from pandas>=0.24.0->catboost) (2018.9)\n",
      "Requirement already satisfied: python-dateutil>=2.7.3 in /usr/local/lib/python3.7/dist-packages (from pandas>=0.24.0->catboost) (2.8.2)\n",
      "Requirement already satisfied: pyparsing!=2.0.4,!=2.1.2,!=2.1.6,>=2.0.1 in /usr/local/lib/python3.7/dist-packages (from matplotlib->catboost) (3.0.6)\n",
      "Requirement already satisfied: kiwisolver>=1.0.1 in /usr/local/lib/python3.7/dist-packages (from matplotlib->catboost) (1.3.2)\n",
      "Requirement already satisfied: cycler>=0.10 in /usr/local/lib/python3.7/dist-packages (from matplotlib->catboost) (0.11.0)\n",
      "Requirement already satisfied: retrying>=1.3.3 in /usr/local/lib/python3.7/dist-packages (from plotly->catboost) (1.3.3)\n"
     ]
    }
   ],
   "source": [
    "pip install catboost"
   ]
  },
  {
   "cell_type": "code",
   "execution_count": null,
   "id": "RfTz7N4nkTnK",
   "metadata": {
    "id": "RfTz7N4nkTnK"
   },
   "outputs": [],
   "source": [
    "\tModels\tTest accuracy\n",
    "0\tCatBoost Classifier\t0.69276\n",
    "1\tLinear Support Vector classifier\t0.68671\n",
    "2\tXGBoost Classifier\t0.68296\n",
    "3 Neural Network Classifier 0.64979\n",
    "4\tSupport Vector classifier\t0.64102\n",
    "5\tlogistic regression\t0.61342\n",
    "6\tRandom Forest Classifier\t0.49878\n"
   ]
  },
  {
   "cell_type": "code",
   "execution_count": null,
   "id": "wireless-pencil",
   "metadata": {
    "execution": {
     "iopub.execute_input": "2021-07-05T13:37:35.878033Z",
     "iopub.status.busy": "2021-07-05T13:37:35.877361Z",
     "iopub.status.idle": "2021-07-05T13:37:41.236540Z",
     "shell.execute_reply": "2021-07-05T13:37:41.237621Z",
     "shell.execute_reply.started": "2021-07-04T17:32:30.944025Z"
    },
    "id": "wireless-pencil",
    "papermill": {
     "duration": 5.414803,
     "end_time": "2021-07-05T13:37:41.237961",
     "exception": false,
     "start_time": "2021-07-05T13:37:35.823158",
     "status": "completed"
    },
    "tags": []
   },
   "outputs": [],
   "source": [
    "import pandas as pd\n",
    "import numpy as np\n",
    "\n",
    "data=pd.read_csv('/content/Data-LinksAdded.csv')\n",
    "newData = pd.read_csv('/content/newData-LinksAdded.csv')\n",
    "data = pd.concat([data, newData]).reset_index(drop=True)"
   ]
  },
  {
   "cell_type": "code",
   "execution_count": null,
   "id": "PTGqMf_qaT9n",
   "metadata": {
    "colab": {
     "base_uri": "https://localhost:8080/"
    },
    "id": "PTGqMf_qaT9n",
    "outputId": "79e780e8-f082-484e-b2df-bc980a4d0fe7"
   },
   "outputs": [
    {
     "data": {
      "text/plain": [
       "(8710, 3)"
      ]
     },
     "execution_count": 4,
     "metadata": {},
     "output_type": "execute_result"
    }
   ],
   "source": [
    "data.shape"
   ]
  },
  {
   "cell_type": "code",
   "execution_count": null,
   "id": "alternative-biodiversity",
   "metadata": {
    "colab": {
     "base_uri": "https://localhost:8080/"
    },
    "execution": {
     "iopub.execute_input": "2021-07-05T13:37:41.627221Z",
     "iopub.status.busy": "2021-07-05T13:37:41.626442Z",
     "iopub.status.idle": "2021-07-05T13:37:41.632448Z",
     "shell.execute_reply": "2021-07-05T13:37:41.633401Z",
     "shell.execute_reply.started": "2021-07-04T17:32:37.447511Z"
    },
    "id": "alternative-biodiversity",
    "outputId": "3b3c84eb-f56e-4396-d91c-d7344ce5ce8f",
    "papermill": {
     "duration": 0.08874,
     "end_time": "2021-07-05T13:37:41.633598",
     "exception": false,
     "start_time": "2021-07-05T13:37:41.544858",
     "status": "completed"
    },
    "tags": []
   },
   "outputs": [
    {
     "data": {
      "text/plain": [
       "INFP    1834\n",
       "INFJ    1472\n",
       "INTP    1305\n",
       "INTJ    1093\n",
       "ENTP     688\n",
       "ENFP     677\n",
       "ISTP     340\n",
       "ISFP     273\n",
       "ENTJ     233\n",
       "ISTJ     207\n",
       "ENFJ     195\n",
       "ISFJ     168\n",
       "ESTP      90\n",
       "ESFP      51\n",
       "ESFJ      45\n",
       "ESTJ      39\n",
       "Name: type, dtype: int64"
      ]
     },
     "execution_count": 5,
     "metadata": {},
     "output_type": "execute_result"
    }
   ],
   "source": [
    "  data['type'].value_counts()"
   ]
  },
  {
   "cell_type": "code",
   "execution_count": null,
   "id": "collectible-ontario",
   "metadata": {
    "colab": {
     "base_uri": "https://localhost:8080/",
     "height": 122
    },
    "execution": {
     "iopub.execute_input": "2021-07-05T13:37:41.941389Z",
     "iopub.status.busy": "2021-07-05T13:37:41.940513Z",
     "iopub.status.idle": "2021-07-05T13:37:41.944103Z",
     "shell.execute_reply": "2021-07-05T13:37:41.942081Z",
     "shell.execute_reply.started": "2021-07-04T17:32:37.481438Z"
    },
    "id": "collectible-ontario",
    "outputId": "d3b99cd0-c859-4df9-877b-a5ae238412b7",
    "papermill": {
     "duration": 0.078892,
     "end_time": "2021-07-05T13:37:41.944255",
     "exception": false,
     "start_time": "2021-07-05T13:37:41.865363",
     "status": "completed"
    },
    "tags": []
   },
   "outputs": [
    {
     "data": {
      "application/vnd.google.colaboratory.intrinsic+json": {
       "type": "string"
      },
      "text/plain": [
       "'         enfp and intj moments     sportscenter not top ten plays     pranks   what has been the most life changing experience in your life           on repeat for most of today    may the perc experience immerse you    the last thing my infj friend posted on his facebook before committing suicide the next day  rest in peace        hello enfj7  sorry to hear of your distress  it s only natural for a relationship to not be perfection all the time in every moment of existence  try to figure the hard times as times of growth  as      84389  84390             welcome and stuff       game  set  match    prozac  wellbrutin  at least thirty minutes of moving your legs  and i don t mean moving them while sitting in your same desk chair   weed in moderation  maybe try edibles as a healthier alternative      basically come up with three items you ve determined that each type  or whichever types you want to do  would more than likely use  given each types  cognitive functions and whatnot  when left by      all things in moderation   sims is indeed a video game  and a good one at that  note  a good one at that is somewhat subjective in that i am not completely promoting the death of any given sim      dear enfp   what were your favorite video games growing up and what are your now  current favorite video games   cool        it appears to be too late   sad    there s someone out there for everyone    wait    i thought confidence was a good thing    i just cherish the time of solitude b c i revel within my inner world more whereas most other time i d be workin    just enjoy the me time while you can  don t worry  people will always be around to      yo entp ladies    if you re into a complimentary personality well  hey        when your main social outlet is xbox live conversations and even then you verbally fatigue quickly       i really dig the part from 1 46 to 2 50       banned because this thread requires it of me    get high in backyard  roast and eat marshmellows in backyard while conversing over something intellectual  followed by massages and kisses                banned for too many b s in that sentence  how could you  think of the b    banned for watching movies in the corner with the dunces    banned because health class clearly taught you nothing about peer pressure    banned for a whole host of reasons        1  two baby deer on left and right munching on a beetle in the middle   2  using their own blood  two cavemen diary today s latest happenings on their designated cave diary wall   3  i see it as      a pokemon world  an infj society  everyone becomes an optimist   49142                   not all artists are artists because they draw  it s the idea that counts in forming something of your own    like a signature    welcome to the robot ranks  person who downed my self esteem cuz i m not an avid signature artist like herself   proud    banned for taking all the room under my bed  ya gotta learn to share with the roaches        banned for being too much of a thundering  grumbling kind of storm    yep    ahh    old high school music i haven t heard in ages        i failed a public speaking class a few years ago and i ve sort of learned what i could do better were i to be in that position again  a big part of my failure was just overloading myself with too      i like this person s mentality  he s a confirmed intj by the way      move to the denver area and start a new life for myself                          '"
      ]
     },
     "execution_count": 6,
     "metadata": {},
     "output_type": "execute_result"
    }
   ],
   "source": [
    "data.posts[0]"
   ]
  },
  {
   "cell_type": "code",
   "execution_count": null,
   "id": "vVvl4fB7929g",
   "metadata": {
    "id": "vVvl4fB7929g"
   },
   "outputs": [],
   "source": [
    "from nltk.stem import WordNetLemmatizer\n",
    "\n",
    "class Lemmatizer(object):\n",
    "    def __init__(self):\n",
    "        self.lemmatizer = WordNetLemmatizer()\n",
    "    def __call__(self, sentence):\n",
    "        return [self.lemmatizer.lemmatize(word) for word in sentence.split() if len(word)>2]"
   ]
  },
  {
   "cell_type": "code",
   "execution_count": null,
   "id": "Lnl1x2hx9k7d",
   "metadata": {
    "colab": {
     "base_uri": "https://localhost:8080/"
    },
    "id": "Lnl1x2hx9k7d",
    "outputId": "901d04f9-0f9d-42da-8487-416ee846dab9"
   },
   "outputs": [
    {
     "name": "stdout",
     "output_type": "stream",
     "text": [
      "[nltk_data] Downloading package wordnet to /root/nltk_data...\n",
      "[nltk_data]   Package wordnet is already up-to-date!\n"
     ]
    },
    {
     "data": {
      "text/plain": [
       "True"
      ]
     },
     "execution_count": 8,
     "metadata": {},
     "output_type": "execute_result"
    }
   ],
   "source": [
    "import nltk\n",
    "nltk.download('wordnet')"
   ]
  },
  {
   "cell_type": "code",
   "execution_count": null,
   "id": "MfigAfQ99k3-",
   "metadata": {
    "colab": {
     "base_uri": "https://localhost:8080/"
    },
    "id": "MfigAfQ99k3-",
    "outputId": "5042454e-f4a1-4ea3-c603-9b2fbf97b57f"
   },
   "outputs": [
    {
     "name": "stderr",
     "output_type": "stream",
     "text": [
      "/usr/local/lib/python3.7/dist-packages/sklearn/feature_extraction/text.py:517: UserWarning: The parameter 'token_pattern' will not be used since 'tokenizer' is not None'\n",
      "  \"The parameter 'token_pattern' will not be used\"\n",
      "/usr/local/lib/python3.7/dist-packages/sklearn/feature_extraction/text.py:401: UserWarning: Your stop_words may be inconsistent with your preprocessing. Tokenizing the stop words generated tokens ['ha', 'le', 'wa'] not in stop_words.\n",
      "  % sorted(inconsistent)\n"
     ]
    },
    {
     "data": {
      "text/plain": [
       "TfidfVectorizer(max_features=5000, stop_words='english',\n",
       "                tokenizer=<__main__.Lemmatizer object at 0x7f9d20bff9d0>)"
      ]
     },
     "execution_count": 9,
     "metadata": {},
     "output_type": "execute_result"
    }
   ],
   "source": [
    "from sklearn.feature_extraction.text import TfidfVectorizer\n",
    "\n",
    "vectorizer=TfidfVectorizer( max_features=5000,stop_words='english',tokenizer=Lemmatizer())\n",
    "vectorizer.fit(data.posts)"
   ]
  },
  {
   "cell_type": "code",
   "execution_count": null,
   "id": "N4KizSBq6cuB",
   "metadata": {
    "id": "N4KizSBq6cuB"
   },
   "outputs": [],
   "source": [
    "# import pickle\n",
    "\n",
    "# with open('vectorizer.pk', 'wb') as f:\n",
    "#   pickle.dump(vectorizer, f)"
   ]
  },
  {
   "cell_type": "code",
   "execution_count": null,
   "id": "Q3AMAtCl9k1P",
   "metadata": {
    "id": "Q3AMAtCl9k1P"
   },
   "outputs": [],
   "source": [
    "data_posts=vectorizer.transform(data.posts).toarray()"
   ]
  },
  {
   "cell_type": "code",
   "execution_count": null,
   "id": "uGnXR4_V9kxu",
   "metadata": {
    "colab": {
     "base_uri": "https://localhost:8080/"
    },
    "id": "uGnXR4_V9kxu",
    "outputId": "ba45b92b-601b-4cbb-f000-50c5f566f3db"
   },
   "outputs": [
    {
     "data": {
      "text/plain": [
       "array([[0.        , 0.        , 0.        , ..., 0.        , 0.        ,\n",
       "        0.        ],\n",
       "       [0.05742331, 0.        , 0.        , ..., 0.        , 0.        ,\n",
       "        0.        ],\n",
       "       [0.        , 0.        , 0.        , ..., 0.        , 0.        ,\n",
       "        0.        ],\n",
       "       ...,\n",
       "       [0.03538296, 0.02159549, 0.        , ..., 0.        , 0.        ,\n",
       "        0.        ],\n",
       "       [0.        , 0.        , 0.        , ..., 0.        , 0.        ,\n",
       "        0.        ],\n",
       "       [0.05149128, 0.01571349, 0.        , ..., 0.        , 0.        ,\n",
       "        0.        ]])"
      ]
     },
     "execution_count": 12,
     "metadata": {},
     "output_type": "execute_result"
    }
   ],
   "source": [
    "data_posts"
   ]
  },
  {
   "cell_type": "code",
   "execution_count": null,
   "id": "7xvgW0V69kuw",
   "metadata": {
    "id": "7xvgW0V69kuw"
   },
   "outputs": [],
   "source": [
    "from sklearn.preprocessing import LabelEncoder\n",
    "\n",
    "target_encoder=LabelEncoder()\n",
    "data_target=target_encoder.fit_transform(data.type)"
   ]
  },
  {
   "cell_type": "code",
   "execution_count": null,
   "id": "cckRPcYIAdvP",
   "metadata": {
    "id": "cckRPcYIAdvP"
   },
   "outputs": [],
   "source": []
  },
  {
   "cell_type": "code",
   "execution_count": null,
   "id": "7RPJEWzvAdra",
   "metadata": {
    "id": "7RPJEWzvAdra"
   },
   "outputs": [],
   "source": [
    "from keras.utils import np_utils\n",
    "\n",
    "dummy_y = np_utils.to_categorical(data_target)"
   ]
  },
  {
   "cell_type": "code",
   "execution_count": null,
   "id": "kH7QZQxNAdpJ",
   "metadata": {
    "colab": {
     "base_uri": "https://localhost:8080/"
    },
    "id": "kH7QZQxNAdpJ",
    "outputId": "fcb54342-bbba-4317-90e0-1a9e5bcb032e"
   },
   "outputs": [
    {
     "data": {
      "text/plain": [
       "array([0., 0., 0., 0., 0., 0., 0., 0., 1., 0., 0., 0., 0., 0., 0., 0.],\n",
       "      dtype=float32)"
      ]
     },
     "execution_count": 15,
     "metadata": {},
     "output_type": "execute_result"
    }
   ],
   "source": [
    "dummy_y[0]"
   ]
  },
  {
   "cell_type": "code",
   "execution_count": null,
   "id": "aEzmwkLAAdi7",
   "metadata": {
    "id": "aEzmwkLAAdi7"
   },
   "outputs": [],
   "source": []
  },
  {
   "cell_type": "markdown",
   "id": "alleged-mining",
   "metadata": {
    "id": "alleged-mining",
    "papermill": {
     "duration": 0.07124,
     "end_time": "2021-07-05T13:37:42.084988",
     "exception": false,
     "start_time": "2021-07-05T13:37:42.013748",
     "status": "completed"
    },
    "tags": []
   },
   "source": [
    "### From above it is quite evident that there are many links in the text data. That needed to be removed."
   ]
  },
  {
   "cell_type": "code",
   "execution_count": null,
   "id": "purple-diana",
   "metadata": {
    "execution": {
     "iopub.execute_input": "2021-07-05T13:37:42.228810Z",
     "iopub.status.busy": "2021-07-05T13:37:42.227870Z",
     "iopub.status.idle": "2021-07-05T13:37:42.237773Z",
     "shell.execute_reply": "2021-07-05T13:37:42.238214Z",
     "shell.execute_reply.started": "2021-07-04T17:32:37.50177Z"
    },
    "id": "purple-diana",
    "papermill": {
     "duration": 0.083884,
     "end_time": "2021-07-05T13:37:42.238372",
     "exception": false,
     "start_time": "2021-07-05T13:37:42.154488",
     "status": "completed"
    },
    "tags": []
   },
   "outputs": [],
   "source": [
    "from sklearn.model_selection import train_test_split\n",
    "\n",
    "train_X, test_X, train_y, test_y = train_test_split(data_posts, data_target ,test_size=0.2,random_state=42,stratify=data_target)"
   ]
  },
  {
   "cell_type": "code",
   "execution_count": null,
   "id": "AnSDMYMaDDPx",
   "metadata": {
    "colab": {
     "base_uri": "https://localhost:8080/"
    },
    "id": "AnSDMYMaDDPx",
    "outputId": "3ed587cb-2535-4b7c-d12b-3dd70ac02822"
   },
   "outputs": [
    {
     "data": {
      "text/plain": [
       "((6968, 5000), (6968,))"
      ]
     },
     "execution_count": 18,
     "metadata": {},
     "output_type": "execute_result"
    }
   ],
   "source": [
    "train_X.shape, train_y.shape"
   ]
  },
  {
   "cell_type": "code",
   "execution_count": null,
   "id": "zPX8BR3Sb82y",
   "metadata": {
    "colab": {
     "base_uri": "https://localhost:8080/"
    },
    "id": "zPX8BR3Sb82y",
    "outputId": "2ad4d8f8-0c86-4e73-fd29-475444f1ec36"
   },
   "outputs": [
    {
     "data": {
      "text/plain": [
       "array([11,  9, 11, ..., 15,  8, 15])"
      ]
     },
     "execution_count": 19,
     "metadata": {},
     "output_type": "execute_result"
    }
   ],
   "source": [
    "test_y"
   ]
  },
  {
   "cell_type": "code",
   "execution_count": null,
   "id": "KoAiqBoaEVyg",
   "metadata": {
    "colab": {
     "base_uri": "https://localhost:8080/"
    },
    "id": "KoAiqBoaEVyg",
    "outputId": "7ac8e7b5-cb6c-435e-921c-98dea8a73470"
   },
   "outputs": [
    {
     "name": "stdout",
     "output_type": "stream",
     "text": [
      "0.8.1\n"
     ]
    }
   ],
   "source": [
    "# check version number\n",
    "import imblearn\n",
    "print(imblearn.__version__)"
   ]
  },
  {
   "cell_type": "code",
   "execution_count": null,
   "id": "UBiSZ4rjEVvd",
   "metadata": {
    "id": "UBiSZ4rjEVvd"
   },
   "outputs": [],
   "source": [
    "from imblearn.over_sampling import SMOTE\n",
    "\n",
    "oversample = SMOTE()\n",
    "train_X, train_y = oversample.fit_resample(train_X, train_y)"
   ]
  },
  {
   "cell_type": "code",
   "execution_count": null,
   "id": "pYnieY3UEVrk",
   "metadata": {
    "colab": {
     "base_uri": "https://localhost:8080/"
    },
    "id": "pYnieY3UEVrk",
    "outputId": "a2a1a50d-e74c-4338-99a3-b09651944591"
   },
   "outputs": [
    {
     "data": {
      "text/plain": [
       "((23472, 5000), (23472,))"
      ]
     },
     "execution_count": 23,
     "metadata": {},
     "output_type": "execute_result"
    }
   ],
   "source": [
    "train_X.shape, train_y.shape"
   ]
  },
  {
   "cell_type": "code",
   "execution_count": null,
   "id": "d-_Jvw-cEVn-",
   "metadata": {
    "colab": {
     "base_uri": "https://localhost:8080/"
    },
    "id": "d-_Jvw-cEVn-",
    "outputId": "b6ba0fed-e3b6-423e-ecc0-9a7c6bffe3d1"
   },
   "outputs": [
    {
     "name": "stdout",
     "output_type": "stream",
     "text": [
      "Counter({8: 1467, 9: 1467, 10: 1467, 1: 1467, 12: 1467, 11: 1467, 3: 1467, 2: 1467, 15: 1467, 13: 1467, 7: 1467, 14: 1467, 0: 1467, 6: 1467, 5: 1467, 4: 1467})\n"
     ]
    }
   ],
   "source": [
    "# Generate and plot a synthetic imbalanced classification dataset\n",
    "from collections import Counter\n",
    "\n",
    "counter = Counter(train_y)\n",
    "print(counter)"
   ]
  },
  {
   "cell_type": "markdown",
   "id": "personal-combine",
   "metadata": {
    "id": "personal-combine",
    "papermill": {
     "duration": 0.140691,
     "end_time": "2021-07-05T13:39:08.363087",
     "exception": false,
     "start_time": "2021-07-05T13:39:08.222396",
     "status": "completed"
    },
    "tags": []
   },
   "source": [
    "# Model Building"
   ]
  },
  {
   "cell_type": "markdown",
   "id": "varied-colorado",
   "metadata": {
    "id": "varied-colorado",
    "papermill": {
     "duration": 0.076891,
     "end_time": "2021-07-05T13:39:08.756401",
     "exception": false,
     "start_time": "2021-07-05T13:39:08.679510",
     "status": "completed"
    },
    "tags": []
   },
   "source": [
    "### Logistic Regression"
   ]
  },
  {
   "cell_type": "code",
   "execution_count": null,
   "id": "together-accordance",
   "metadata": {
    "colab": {
     "base_uri": "https://localhost:8080/"
    },
    "execution": {
     "iopub.execute_input": "2021-07-05T13:39:08.915918Z",
     "iopub.status.busy": "2021-07-05T13:39:08.915046Z",
     "iopub.status.idle": "2021-07-05T13:39:46.252405Z",
     "shell.execute_reply": "2021-07-05T13:39:46.252837Z",
     "shell.execute_reply.started": "2021-07-04T18:09:27.05175Z"
    },
    "id": "together-accordance",
    "outputId": "283d38eb-423e-4f66-b62f-63b7cab4110f",
    "papermill": {
     "duration": 37.418681,
     "end_time": "2021-07-05T13:39:46.252981",
     "exception": false,
     "start_time": "2021-07-05T13:39:08.834300",
     "status": "completed"
    },
    "tags": []
   },
   "outputs": [
    {
     "data": {
      "text/plain": [
       "LogisticRegression(C=0.5, max_iter=4000, n_jobs=-1)"
      ]
     },
     "execution_count": 31,
     "metadata": {},
     "output_type": "execute_result"
    }
   ],
   "source": [
    "from sklearn.linear_model import LogisticRegression\n",
    "\n",
    "model_log=LogisticRegression(max_iter=4000,C=0.5,n_jobs=-1)\n",
    "model_log.fit(train_X,train_y)"
   ]
  },
  {
   "cell_type": "code",
   "execution_count": null,
   "id": "RPMq6TXU8PVZ",
   "metadata": {
    "id": "RPMq6TXU8PVZ"
   },
   "outputs": [],
   "source": [
    "# with open('Final-model_LG-Reg.pkl','wb') as f:\n",
    "#     pickle.dump(model_log,f)"
   ]
  },
  {
   "cell_type": "code",
   "execution_count": null,
   "id": "great-guarantee",
   "metadata": {
    "execution": {
     "iopub.execute_input": "2021-07-05T13:39:46.413597Z",
     "iopub.status.busy": "2021-07-05T13:39:46.412725Z",
     "iopub.status.idle": "2021-07-05T13:39:46.544195Z",
     "shell.execute_reply": "2021-07-05T13:39:46.545245Z",
     "shell.execute_reply.started": "2021-07-04T18:10:17.113012Z"
    },
    "id": "great-guarantee",
    "papermill": {
     "duration": 0.21524,
     "end_time": "2021-07-05T13:39:46.545471",
     "exception": false,
     "start_time": "2021-07-05T13:39:46.330231",
     "status": "completed"
    },
    "tags": []
   },
   "outputs": [],
   "source": [
    "# classification_report(train_y,model_log.predict(train_X),target_names=target_encoder.inverse_transform([i for i in range(16)]))"
   ]
  },
  {
   "cell_type": "code",
   "execution_count": null,
   "id": "invisible-guinea",
   "metadata": {
    "execution": {
     "iopub.execute_input": "2021-07-05T13:39:46.751192Z",
     "iopub.status.busy": "2021-07-05T13:39:46.750265Z",
     "iopub.status.idle": "2021-07-05T13:39:46.787685Z",
     "shell.execute_reply": "2021-07-05T13:39:46.788694Z",
     "shell.execute_reply.started": "2021-07-04T18:10:17.299267Z"
    },
    "id": "invisible-guinea",
    "papermill": {
     "duration": 0.12092,
     "end_time": "2021-07-05T13:39:46.788928",
     "exception": false,
     "start_time": "2021-07-05T13:39:46.668008",
     "status": "completed"
    },
    "tags": []
   },
   "outputs": [],
   "source": [
    "# classification_report(test_y,model_log.predict(test_X),target_names=target_encoder.inverse_transform([i for i in range(16)]))"
   ]
  },
  {
   "cell_type": "code",
   "execution_count": null,
   "id": "deadly-louisville",
   "metadata": {
    "colab": {
     "base_uri": "https://localhost:8080/"
    },
    "execution": {
     "iopub.execute_input": "2021-07-05T13:39:47.002588Z",
     "iopub.status.busy": "2021-07-05T13:39:47.001650Z",
     "iopub.status.idle": "2021-07-05T13:39:47.028876Z",
     "shell.execute_reply": "2021-07-05T13:39:47.029521Z",
     "shell.execute_reply.started": "2021-07-04T18:11:06.181764Z"
    },
    "id": "deadly-louisville",
    "outputId": "6118bb30-5855-43a2-e7ea-2a88decf748b",
    "papermill": {
     "duration": 0.110098,
     "end_time": "2021-07-05T13:39:47.029760",
     "exception": false,
     "start_time": "2021-07-05T13:39:46.919662",
     "status": "completed"
    },
    "tags": []
   },
   "outputs": [
    {
     "name": "stdout",
     "output_type": "stream",
     "text": [
      "0.6808266360505166\n",
      "0.6818633875250582\n"
     ]
    }
   ],
   "source": [
    "from sklearn.metrics import f1_score\n",
    "from sklearn.metrics import accuracy_score\n",
    "\n",
    "print(accuracy_score(test_y,model_log.predict(test_X)))\n",
    "print(f1_score(test_y, model_log.predict(test_X), average = 'weighted'))"
   ]
  },
  {
   "cell_type": "markdown",
   "id": "medium-fantasy",
   "metadata": {
    "id": "medium-fantasy",
    "papermill": {
     "duration": 0.077465,
     "end_time": "2021-07-05T13:39:47.243307",
     "exception": false,
     "start_time": "2021-07-05T13:39:47.165842",
     "status": "completed"
    },
    "tags": []
   },
   "source": [
    "### Linear Support Vector classifier"
   ]
  },
  {
   "cell_type": "code",
   "execution_count": null,
   "id": "cheap-workplace",
   "metadata": {
    "colab": {
     "base_uri": "https://localhost:8080/"
    },
    "execution": {
     "iopub.execute_input": "2021-07-05T13:39:47.404664Z",
     "iopub.status.busy": "2021-07-05T13:39:47.403724Z",
     "iopub.status.idle": "2021-07-05T13:39:48.477019Z",
     "shell.execute_reply": "2021-07-05T13:39:48.476584Z",
     "shell.execute_reply.started": "2021-07-04T17:34:41.912677Z"
    },
    "id": "cheap-workplace",
    "outputId": "ea016ded-6c03-42c6-8651-ab059d71715f",
    "papermill": {
     "duration": 1.155667,
     "end_time": "2021-07-05T13:39:48.477143",
     "exception": false,
     "start_time": "2021-07-05T13:39:47.321476",
     "status": "completed"
    },
    "tags": []
   },
   "outputs": [
    {
     "data": {
      "text/plain": [
       "LinearSVC()"
      ]
     },
     "execution_count": 35,
     "metadata": {},
     "output_type": "execute_result"
    }
   ],
   "source": [
    "from sklearn.svm import LinearSVC\n",
    "\n",
    "model_linear_svc=LinearSVC()\n",
    "model_linear_svc.fit(train_X,train_y)"
   ]
  },
  {
   "cell_type": "code",
   "execution_count": null,
   "id": "zrAu9VY-8h8x",
   "metadata": {
    "id": "zrAu9VY-8h8x"
   },
   "outputs": [],
   "source": [
    "# with open('Final-model_linear_svc.pkl','wb') as f:\n",
    "#     pickle.dump(model_linear_svc,f)"
   ]
  },
  {
   "cell_type": "code",
   "execution_count": null,
   "id": "found-opening",
   "metadata": {
    "colab": {
     "base_uri": "https://localhost:8080/"
    },
    "execution": {
     "iopub.execute_input": "2021-07-05T13:39:49.019136Z",
     "iopub.status.busy": "2021-07-05T13:39:49.018281Z",
     "iopub.status.idle": "2021-07-05T13:39:49.044598Z",
     "shell.execute_reply": "2021-07-05T13:39:49.045395Z",
     "shell.execute_reply.started": "2021-07-04T17:34:43.211435Z"
    },
    "id": "found-opening",
    "outputId": "e6126862-f875-4576-db7c-cb69e14f1f2f",
    "papermill": {
     "duration": 0.109515,
     "end_time": "2021-07-05T13:39:49.045638",
     "exception": false,
     "start_time": "2021-07-05T13:39:48.936123",
     "status": "completed"
    },
    "tags": []
   },
   "outputs": [
    {
     "name": "stdout",
     "output_type": "stream",
     "text": [
      "0.6130884041331802\n",
      "0.6108592733227876\n"
     ]
    }
   ],
   "source": [
    "print(accuracy_score(test_y,model_linear_svc.predict(test_X)))\n",
    "print(f1_score(test_y, model_linear_svc.predict(test_X), average = 'weighted'))"
   ]
  },
  {
   "cell_type": "markdown",
   "id": "surprising-rehabilitation",
   "metadata": {
    "id": "surprising-rehabilitation",
    "papermill": {
     "duration": 0.084131,
     "end_time": "2021-07-05T13:39:49.266295",
     "exception": false,
     "start_time": "2021-07-05T13:39:49.182164",
     "status": "completed"
    },
    "tags": []
   },
   "source": [
    "### Support Vector classifier"
   ]
  },
  {
   "cell_type": "code",
   "execution_count": null,
   "id": "recorded-stupid",
   "metadata": {
    "colab": {
     "base_uri": "https://localhost:8080/"
    },
    "execution": {
     "iopub.execute_input": "2021-07-05T13:39:49.430401Z",
     "iopub.status.busy": "2021-07-05T13:39:49.429501Z",
     "iopub.status.idle": "2021-07-05T13:44:46.534095Z",
     "shell.execute_reply": "2021-07-05T13:44:46.534507Z",
     "shell.execute_reply.started": "2021-07-04T17:34:43.256206Z"
    },
    "id": "recorded-stupid",
    "outputId": "ad16ed80-6c9e-4308-e38f-7049b180658f",
    "papermill": {
     "duration": 297.187671,
     "end_time": "2021-07-05T13:44:46.534674",
     "exception": false,
     "start_time": "2021-07-05T13:39:49.347003",
     "status": "completed"
    },
    "tags": []
   },
   "outputs": [
    {
     "data": {
      "text/plain": [
       "SVC()"
      ]
     },
     "execution_count": 54,
     "metadata": {},
     "output_type": "execute_result"
    }
   ],
   "source": [
    "model_svc=SVC()\n",
    "model_svc.fit(train_X,train_y)"
   ]
  },
  {
   "cell_type": "code",
   "execution_count": null,
   "id": "xQhnNC1Q8rAC",
   "metadata": {
    "id": "xQhnNC1Q8rAC"
   },
   "outputs": [],
   "source": [
    "# with open('model_svc.pkl','wb') as f:\n",
    "#     pickle.dump(model_svc,f)"
   ]
  },
  {
   "cell_type": "code",
   "execution_count": null,
   "id": "formal-office",
   "metadata": {
    "execution": {
     "iopub.execute_input": "2021-07-05T13:49:44.656551Z",
     "iopub.status.busy": "2021-07-05T13:49:44.655620Z",
     "iopub.status.idle": "2021-07-05T13:50:44.027288Z",
     "shell.execute_reply": "2021-07-05T13:50:44.026283Z",
     "shell.execute_reply.started": "2021-07-04T17:46:24.597844Z"
    },
    "id": "formal-office",
    "papermill": {
     "duration": 59.455805,
     "end_time": "2021-07-05T13:50:44.027458",
     "exception": false,
     "start_time": "2021-07-05T13:49:44.571653",
     "status": "completed"
    },
    "tags": []
   },
   "outputs": [],
   "source": [
    "print(accuracy_score(test_y,model_svc.predict(test_X)))\n",
    "print(f1_score(test_y, model_svc.predict(test_X), average = 'weighted'))"
   ]
  },
  {
   "cell_type": "code",
   "execution_count": null,
   "id": "c5eLDkWrtY7k",
   "metadata": {
    "id": "c5eLDkWrtY7k"
   },
   "outputs": [],
   "source": []
  },
  {
   "cell_type": "markdown",
   "id": "Zb7mMDgktaEs",
   "metadata": {
    "id": "Zb7mMDgktaEs"
   },
   "source": [
    "### Neural Net"
   ]
  },
  {
   "cell_type": "code",
   "execution_count": null,
   "id": "5XqRm4OAtY0P",
   "metadata": {
    "id": "5XqRm4OAtY0P"
   },
   "outputs": [],
   "source": [
    "import keras\n",
    "from keras.models import Sequential\n",
    "from keras.layers import Dense"
   ]
  },
  {
   "cell_type": "code",
   "execution_count": null,
   "id": "zyTpA6MOHAeM",
   "metadata": {
    "colab": {
     "base_uri": "https://localhost:8080/"
    },
    "id": "zyTpA6MOHAeM",
    "outputId": "d04d8a09-ad0a-4423-b7e6-bd75d1506c0f"
   },
   "outputs": [
    {
     "name": "stdout",
     "output_type": "stream",
     "text": [
      "GPU name:  [PhysicalDevice(name='/physical_device:GPU:0', device_type='GPU')]\n"
     ]
    }
   ],
   "source": [
    "import tensorflow as tf\n",
    "\n",
    "print('GPU name: ', tf.config.experimental.list_physical_devices('GPU'))"
   ]
  },
  {
   "cell_type": "code",
   "execution_count": null,
   "id": "ZFmLYI_YtYxA",
   "metadata": {
    "id": "ZFmLYI_YtYxA"
   },
   "outputs": [],
   "source": [
    "METRICS = [\n",
    "      keras.metrics.TruePositives(name='tp'),\n",
    "      keras.metrics.TrueNegatives(name='tn'),\n",
    "      keras.metrics.AUC(name='auc'),\n",
    "      'accuracy',\n",
    "]"
   ]
  },
  {
   "cell_type": "code",
   "execution_count": null,
   "id": "dHLu0TJ1tYtw",
   "metadata": {
    "id": "dHLu0TJ1tYtw"
   },
   "outputs": [],
   "source": [
    "#Initializing Neural Network\n",
    "classifier = Sequential()"
   ]
  },
  {
   "cell_type": "code",
   "execution_count": null,
   "id": "8gYt0jZDtYqT",
   "metadata": {
    "colab": {
     "base_uri": "https://localhost:8080/"
    },
    "id": "8gYt0jZDtYqT",
    "outputId": "4f0b1195-0f0b-44b5-bbe0-7d9b34ea81c6"
   },
   "outputs": [
    {
     "data": {
      "text/plain": [
       "5000"
      ]
     },
     "execution_count": 44,
     "metadata": {},
     "output_type": "execute_result"
    }
   ],
   "source": [
    "train_X.shape[1]"
   ]
  },
  {
   "cell_type": "code",
   "execution_count": null,
   "id": "ZPubisHStYfk",
   "metadata": {
    "id": "ZPubisHStYfk"
   },
   "outputs": [],
   "source": [
    "classifier.add(Dense(256, kernel_initializer = 'uniform', activation = 'relu', input_dim = train_X.shape[1]))\n",
    "classifier.add(Dense(128, kernel_initializer = 'uniform', activation = 'relu'))\n",
    "classifier.add(Dense(64, kernel_initializer = 'uniform', activation = 'relu'))\n",
    "classifier.add(Dense(32, kernel_initializer = 'uniform', activation = 'relu'))\n",
    "classifier.add(Dense(16, kernel_initializer = 'uniform', activation = 'relu'))\n",
    "classifier.add(Dense(8, kernel_initializer = 'uniform', activation = 'softmax'))"
   ]
  },
  {
   "cell_type": "code",
   "execution_count": null,
   "id": "u67YicyjFamT",
   "metadata": {
    "id": "u67YicyjFamT"
   },
   "outputs": [],
   "source": [
    "classifier.compile(optimizer = 'adam', loss='categorical_crossentropy', metrics = METRICS)"
   ]
  },
  {
   "cell_type": "code",
   "execution_count": null,
   "id": "1QUBk_81Fajz",
   "metadata": {
    "colab": {
     "base_uri": "https://localhost:8080/"
    },
    "id": "1QUBk_81Fajz",
    "outputId": "51e9ede4-cff0-4aa0-fba0-4760b8fd7cea"
   },
   "outputs": [
    {
     "name": "stdout",
     "output_type": "stream",
     "text": [
      "Model: \"sequential\"\n",
      "_________________________________________________________________\n",
      " Layer (type)                Output Shape              Param #   \n",
      "=================================================================\n",
      " dense (Dense)               (None, 256)               1280256   \n",
      "                                                                 \n",
      " dense_1 (Dense)             (None, 128)               32896     \n",
      "                                                                 \n",
      " dense_2 (Dense)             (None, 64)                8256      \n",
      "                                                                 \n",
      " dense_3 (Dense)             (None, 32)                2080      \n",
      "                                                                 \n",
      " dense_4 (Dense)             (None, 16)                528       \n",
      "                                                                 \n",
      " dense_5 (Dense)             (None, 8)                 136       \n",
      "                                                                 \n",
      "=================================================================\n",
      "Total params: 1,324,152\n",
      "Trainable params: 1,324,152\n",
      "Non-trainable params: 0\n",
      "_________________________________________________________________\n"
     ]
    }
   ],
   "source": [
    "classifier.summary()"
   ]
  },
  {
   "cell_type": "code",
   "execution_count": null,
   "id": "f8QxlWHdFagx",
   "metadata": {
    "id": "f8QxlWHdFagx"
   },
   "outputs": [],
   "source": [
    "history = classifier.fit(train_X, train_y, batch_size = 100, epochs = 100, validation_data=(test_X, test_y))"
   ]
  },
  {
   "cell_type": "code",
   "execution_count": null,
   "id": "JaoJ9L5OFaeF",
   "metadata": {
    "colab": {
     "base_uri": "https://localhost:8080/",
     "height": 282
    },
    "id": "JaoJ9L5OFaeF",
    "outputId": "98e4efcd-1567-4506-eb37-cc45f6045963"
   },
   "outputs": [
    {
     "data": {
      "text/plain": [
       "[<matplotlib.lines.Line2D at 0x7f28661c8990>]"
      ]
     },
     "execution_count": 57,
     "metadata": {},
     "output_type": "execute_result"
    },
    {
     "data": {
      "image/png": "[encoded data removed]",
      "text/plain": [
       "<Figure size 432x288 with 1 Axes>"
      ]
     },
     "metadata": {
      "needs_background": "light"
     },
     "output_type": "display_data"
    }
   ],
   "source": [
    "plt.plot(history.history['val_accuracy'])"
   ]
  },
  {
   "cell_type": "markdown",
   "id": "scheduled-hopkins",
   "metadata": {
    "id": "scheduled-hopkins",
    "papermill": {
     "duration": 0.080202,
     "end_time": "2021-07-05T13:50:44.189918",
     "exception": false,
     "start_time": "2021-07-05T13:50:44.109716",
     "status": "completed"
    },
    "tags": []
   },
   "source": [
    "Multinomial Naive Bayes"
   ]
  },
  {
   "cell_type": "code",
   "execution_count": null,
   "id": "julian-lebanon",
   "metadata": {
    "colab": {
     "base_uri": "https://localhost:8080/"
    },
    "execution": {
     "iopub.execute_input": "2021-07-05T13:50:44.356824Z",
     "iopub.status.busy": "2021-07-05T13:50:44.355873Z",
     "iopub.status.idle": "2021-07-05T13:50:44.496197Z",
     "shell.execute_reply": "2021-07-05T13:50:44.495457Z",
     "shell.execute_reply.started": "2021-07-04T17:47:40.301022Z"
    },
    "id": "julian-lebanon",
    "outputId": "ff8bdf82-426e-4483-fb26-70faaf85e2a1",
    "papermill": {
     "duration": 0.225469,
     "end_time": "2021-07-05T13:50:44.496414",
     "exception": false,
     "start_time": "2021-07-05T13:50:44.270945",
     "status": "completed"
    },
    "tags": []
   },
   "outputs": [
    {
     "data": {
      "text/plain": [
       "MultinomialNB()"
      ]
     },
     "execution_count": 42,
     "metadata": {},
     "output_type": "execute_result"
    }
   ],
   "source": [
    "model_multinomial_nb=MultinomialNB()\n",
    "model_multinomial_nb.fit(train_X,train_y)"
   ]
  },
  {
   "cell_type": "code",
   "execution_count": null,
   "id": "djgKEC0z80KZ",
   "metadata": {
    "id": "djgKEC0z80KZ"
   },
   "outputs": [],
   "source": [
    "# with open('model_multinomial_nb+.pkl','wb') as f:\n",
    "#     pickle.dump(model_multinomial_nb,f)"
   ]
  },
  {
   "cell_type": "markdown",
   "id": "significant-bermuda",
   "metadata": {
    "id": "significant-bermuda",
    "papermill": {
     "duration": 0.081532,
     "end_time": "2021-07-05T13:50:45.396534",
     "exception": false,
     "start_time": "2021-07-05T13:50:45.315002",
     "status": "completed"
    },
    "tags": []
   },
   "source": [
    "Decision Tree Classifier"
   ]
  },
  {
   "cell_type": "code",
   "execution_count": null,
   "id": "illegal-prime",
   "metadata": {
    "colab": {
     "base_uri": "https://localhost:8080/"
    },
    "execution": {
     "iopub.execute_input": "2021-07-05T13:50:45.565660Z",
     "iopub.status.busy": "2021-07-05T13:50:45.564586Z",
     "iopub.status.idle": "2021-07-05T13:50:51.201941Z",
     "shell.execute_reply": "2021-07-05T13:50:51.202399Z",
     "shell.execute_reply.started": "2021-07-04T17:47:40.770855Z"
    },
    "id": "illegal-prime",
    "outputId": "067db96d-f38f-4eb1-8ce0-98a448548f16",
    "papermill": {
     "duration": 5.724309,
     "end_time": "2021-07-05T13:50:51.202554",
     "exception": false,
     "start_time": "2021-07-05T13:50:45.478245",
     "status": "completed"
    },
    "tags": []
   },
   "outputs": [
    {
     "data": {
      "text/plain": [
       "DecisionTreeClassifier(max_depth=14)"
      ]
     },
     "execution_count": 46,
     "metadata": {},
     "output_type": "execute_result"
    }
   ],
   "source": [
    "model_tree=DecisionTreeClassifier(max_depth=14)\n",
    "model_tree.fit(train_X,train_y)"
   ]
  },
  {
   "cell_type": "code",
   "execution_count": null,
   "id": "-EgMGiiu85WE",
   "metadata": {
    "id": "-EgMGiiu85WE"
   },
   "outputs": [],
   "source": [
    "# with open('model_tree+.pkl','wb') as f:\n",
    "#     pickle.dump(model_tree,f)"
   ]
  },
  {
   "cell_type": "markdown",
   "id": "hired-visiting",
   "metadata": {
    "id": "hired-visiting",
    "papermill": {
     "duration": 0.082625,
     "end_time": "2021-07-05T13:50:51.862002",
     "exception": false,
     "start_time": "2021-07-05T13:50:51.779377",
     "status": "completed"
    },
    "tags": []
   },
   "source": [
    "<h4 style=\"background-color:#cc99ff;font-family:newtimeroman;font-size:300%;text-align:center;border-radius: 15px 50px;padding: 5px \">Random Forest Classifier</h4>"
   ]
  },
  {
   "cell_type": "code",
   "execution_count": null,
   "id": "conservative-conjunction",
   "metadata": {
    "colab": {
     "base_uri": "https://localhost:8080/"
    },
    "execution": {
     "iopub.execute_input": "2021-07-05T13:50:52.044348Z",
     "iopub.status.busy": "2021-07-05T13:50:52.043116Z",
     "iopub.status.idle": "2021-07-05T13:50:57.677717Z",
     "shell.execute_reply": "2021-07-05T13:50:57.678116Z",
     "shell.execute_reply.started": "2021-07-04T17:47:46.699595Z"
    },
    "id": "conservative-conjunction",
    "outputId": "60958215-b9bf-44ea-8300-960ac71761f6",
    "papermill": {
     "duration": 5.732569,
     "end_time": "2021-07-05T13:50:57.678275",
     "exception": false,
     "start_time": "2021-07-05T13:50:51.945706",
     "status": "completed"
    },
    "tags": []
   },
   "outputs": [
    {
     "data": {
      "text/plain": [
       "RandomForestClassifier(max_depth=400)"
      ]
     },
     "execution_count": 50,
     "metadata": {},
     "output_type": "execute_result"
    }
   ],
   "source": [
    "from sklearn.ensemble import RandomForestClassifier\n",
    "\n",
    "model_forest=RandomForestClassifier(max_depth=400)\n",
    "model_forest.fit(train_X,train_y)"
   ]
  },
  {
   "cell_type": "code",
   "execution_count": null,
   "id": "s1bZbH5u8_E1",
   "metadata": {
    "id": "s1bZbH5u8_E1"
   },
   "outputs": [],
   "source": [
    "# with open('/content/models/model_forest.pkl','wb') as f:\n",
    "#     pickle.dump(model_forest,f)"
   ]
  },
  {
   "cell_type": "code",
   "execution_count": null,
   "id": "permanent-westminster",
   "metadata": {
    "execution": {
     "iopub.execute_input": "2021-07-05T13:50:58.352740Z",
     "iopub.status.busy": "2021-07-05T13:50:58.351639Z",
     "iopub.status.idle": "2021-07-05T13:50:58.414750Z",
     "shell.execute_reply": "2021-07-05T13:50:58.414267Z",
     "shell.execute_reply.started": "2021-07-04T17:47:51.385651Z"
    },
    "id": "permanent-westminster",
    "papermill": {
     "duration": 0.151246,
     "end_time": "2021-07-05T13:50:58.414880",
     "exception": false,
     "start_time": "2021-07-05T13:50:58.263634",
     "status": "completed"
    },
    "tags": []
   },
   "outputs": [],
   "source": [
    "print(accuracy_score(test_y,model_forest.predict(test_X)))\n",
    "print(f1_score(test_y, model_forest.predict(test_X), average = 'weighted'))"
   ]
  },
  {
   "cell_type": "markdown",
   "id": "american-resort",
   "metadata": {
    "id": "american-resort",
    "papermill": {
     "duration": 0.084087,
     "end_time": "2021-07-05T13:50:58.581952",
     "exception": false,
     "start_time": "2021-07-05T13:50:58.497865",
     "status": "completed"
    },
    "tags": []
   },
   "source": [
    "### XGBoost Classifier"
   ]
  },
  {
   "cell_type": "code",
   "execution_count": 52,
   "id": "F--Oo-0GP2Db",
   "metadata": {
    "colab": {
     "base_uri": "https://localhost:8080/",
     "height": 35
    },
    "id": "F--Oo-0GP2Db",
    "outputId": "74718cb4-fce1-42f0-f2d5-4be4cc4296ea"
   },
   "outputs": [
    {
     "data": {
      "application/vnd.google.colaboratory.intrinsic+json": {
       "type": "string"
      },
      "text/plain": [
       "'0.90'"
      ]
     },
     "execution_count": 52,
     "metadata": {},
     "output_type": "execute_result"
    }
   ],
   "source": [
    "import xgboost\n",
    "xgboost.__version__"
   ]
  },
  {
   "cell_type": "code",
   "execution_count": 53,
   "id": "9D33hJZvmsqi",
   "metadata": {
    "colab": {
     "base_uri": "https://localhost:8080/",
     "height": 294
    },
    "id": "9D33hJZvmsqi",
    "outputId": "354249d4-3839-4669-aa85-93e97942445b"
   },
   "outputs": [
    {
     "name": "stdout",
     "output_type": "stream",
     "text": [
      "Collecting xgboost==1.5.1\n",
      "  Downloading xgboost-1.5.1-py3-none-manylinux2014_x86_64.whl (173.5 MB)\n",
      "\u001b[K     |████████████████████████████████| 173.5 MB 13 kB/s \n",
      "\u001b[?25hRequirement already satisfied: scipy in /usr/local/lib/python3.7/dist-packages (from xgboost==1.5.1) (1.4.1)\n",
      "Requirement already satisfied: numpy in /usr/local/lib/python3.7/dist-packages (from xgboost==1.5.1) (1.19.5)\n",
      "Installing collected packages: xgboost\n",
      "  Attempting uninstall: xgboost\n",
      "    Found existing installation: xgboost 0.90\n",
      "    Uninstalling xgboost-0.90:\n",
      "      Successfully uninstalled xgboost-0.90\n",
      "Successfully installed xgboost-1.5.1\n"
     ]
    },
    {
     "data": {
      "application/vnd.colab-display-data+json": {
       "pip_warning": {
        "packages": [
         "xgboost"
        ]
       }
      }
     },
     "metadata": {},
     "output_type": "display_data"
    }
   ],
   "source": [
    "pip install xgboost==1.5.1"
   ]
  },
  {
   "cell_type": "code",
   "execution_count": null,
   "id": "regular-milton",
   "metadata": {
    "execution": {
     "iopub.execute_input": "2021-07-05T13:50:58.750421Z",
     "iopub.status.busy": "2021-07-05T13:50:58.749923Z",
     "iopub.status.idle": "2021-07-05T13:51:37.434083Z",
     "shell.execute_reply": "2021-07-05T13:51:37.434500Z",
     "shell.execute_reply.started": "2021-07-04T17:47:51.461588Z"
    },
    "id": "regular-milton",
    "papermill": {
     "duration": 38.770725,
     "end_time": "2021-07-05T13:51:37.434659",
     "exception": false,
     "start_time": "2021-07-05T13:50:58.663934",
     "status": "completed"
    },
    "tags": []
   },
   "outputs": [],
   "source": [
    "from xgboost import XGBClassifier\n",
    "\n",
    "model_xgb=XGBClassifier(gpu_id=0,tree_method='gpu_hist',max_depth=500,n_estimators=750,learning_rate=0.1, subsample = 0.7, colsample_bylevel = 0.5)\n",
    "model_xgb.fit(train_X,train_y)"
   ]
  },
  {
   "cell_type": "code",
   "execution_count": null,
   "id": "portuguese-ceremony",
   "metadata": {
    "execution": {
     "iopub.execute_input": "2021-07-05T13:51:38.256175Z",
     "iopub.status.busy": "2021-07-05T13:51:38.255348Z",
     "iopub.status.idle": "2021-07-05T13:51:38.345918Z",
     "shell.execute_reply": "2021-07-05T13:51:38.346786Z",
     "shell.execute_reply.started": "2021-07-04T17:48:31.344766Z"
    },
    "id": "portuguese-ceremony",
    "papermill": {
     "duration": 0.177973,
     "end_time": "2021-07-05T13:51:38.346970",
     "exception": false,
     "start_time": "2021-07-05T13:51:38.168997",
     "status": "completed"
    },
    "tags": []
   },
   "outputs": [],
   "source": [
    "print(accuracy_score(test_y,model_xgb.predict(test_X)))\n",
    "print(f1_score(test_y, model_xgb.predict(test_X), average = 'weighted'))"
   ]
  },
  {
   "cell_type": "code",
   "execution_count": null,
   "id": "HS-3TEPilE7B",
   "metadata": {
    "id": "HS-3TEPilE7B"
   },
   "outputs": [],
   "source": [
    "# model_xgb.save_model('model_xgb-Links++.json')"
   ]
  },
  {
   "cell_type": "code",
   "execution_count": null,
   "id": "fawK7DFAl8L2",
   "metadata": {
    "colab": {
     "base_uri": "https://localhost:8080/",
     "height": 35
    },
    "id": "fawK7DFAl8L2",
    "outputId": "baad4c62-08b0-42e8-c30a-63080f7148b9"
   },
   "outputs": [
    {
     "data": {
      "application/vnd.google.colaboratory.intrinsic+json": {
       "type": "string"
      },
      "text/plain": [
       "'0.90'"
      ]
     },
     "execution_count": 76,
     "metadata": {},
     "output_type": "execute_result"
    }
   ],
   "source": [
    "import xgboost as xgb\n",
    "xgb.__version__"
   ]
  },
  {
   "cell_type": "code",
   "execution_count": null,
   "id": "TFU0IVB0Amyh",
   "metadata": {
    "id": "TFU0IVB0Amyh"
   },
   "outputs": [],
   "source": [
    "# with open('/content/drive/MyDrive/Colab Notebooks/MBTI Models/model_xgb-Links++.pkl','wb') as f:\n",
    "#     pickle.dump(model_xgb,f)"
   ]
  },
  {
   "cell_type": "markdown",
   "id": "following-inside",
   "metadata": {
    "id": "following-inside",
    "papermill": {
     "duration": 0.08284,
     "end_time": "2021-07-05T13:51:38.514622",
     "exception": false,
     "start_time": "2021-07-05T13:51:38.431782",
     "status": "completed"
    },
    "tags": []
   },
   "source": [
    "### CatBoost Classifier"
   ]
  },
  {
   "cell_type": "code",
   "execution_count": null,
   "id": "mature-gateway",
   "metadata": {
    "colab": {
     "base_uri": "https://localhost:8080/"
    },
    "execution": {
     "iopub.execute_input": "2021-07-05T13:51:55.693640Z",
     "iopub.status.busy": "2021-07-05T13:51:38.704836Z",
     "iopub.status.idle": "2021-07-05T13:54:40.465944Z",
     "shell.execute_reply": "2021-07-05T13:54:40.466513Z",
     "shell.execute_reply.started": "2021-07-04T17:48:31.74424Z"
    },
    "id": "mature-gateway",
    "outputId": "e1564e4f-92f9-43cd-aca8-5b467ba56cf9",
    "papermill": {
     "duration": 181.86905,
     "end_time": "2021-07-05T13:54:40.466720",
     "exception": false,
     "start_time": "2021-07-05T13:51:38.597670",
     "status": "completed"
    },
    "tags": []
   },
   "outputs": [
    {
     "data": {
      "text/plain": [
       "<catboost.core.CatBoostClassifier at 0x7f19411c56d0>"
      ]
     },
     "execution_count": 48,
     "metadata": {},
     "output_type": "execute_result"
    }
   ],
   "source": [
    "model_cat=CatBoostClassifier(loss_function='MultiClass',eval_metric='MultiClass',task_type='GPU',depth = 10)\n",
    "model_cat.fit(train_X,train_y)"
   ]
  },
  {
   "cell_type": "code",
   "execution_count": null,
   "id": "floral-memorabilia",
   "metadata": {
    "execution": {
     "iopub.execute_input": "2021-07-05T13:55:06.762212Z",
     "iopub.status.busy": "2021-07-05T13:55:06.761371Z",
     "iopub.status.idle": "2021-07-05T13:55:06.789473Z",
     "shell.execute_reply": "2021-07-05T13:55:06.788675Z",
     "shell.execute_reply.started": "2021-07-04T17:52:14.750747Z"
    },
    "id": "floral-memorabilia",
    "papermill": {
     "duration": 4.828074,
     "end_time": "2021-07-05T13:55:06.789631",
     "exception": false,
     "start_time": "2021-07-05T13:55:01.961557",
     "status": "completed"
    },
    "tags": []
   },
   "outputs": [],
   "source": [
    "print(accuracy_score(test_y,model_cat.predict(test_X)))\n",
    "print(f1_score(test_y, model_cat.predict(test_X), average = 'weighted'))"
   ]
  },
  {
   "cell_type": "code",
   "execution_count": null,
   "id": "Xt8CQNhqCbDI",
   "metadata": {
    "id": "Xt8CQNhqCbDI"
   },
   "outputs": [],
   "source": [
    "# with open('Final-model_cat.pkl','wb') as f:\n",
    "#     pickle.dump(model_cat,f)"
   ]
  }
 ],
 "metadata": {
  "accelerator": "GPU",
  "colab": {
   "collapsed_sections": [],
   "name": "MBTI-Modelling-Final .ipynb",
   "provenance": []
  },
  "kernelspec": {
   "display_name": "Python 3 (ipykernel)",
   "language": "python",
   "name": "python3"
  },
  "language_info": {
   "codemirror_mode": {
    "name": "ipython",
    "version": 3
   },
   "file_extension": ".py",
   "mimetype": "text/x-python",
   "name": "python",
   "nbconvert_exporter": "python",
   "pygments_lexer": "ipython3",
   "version": "3.7.11"
  },
  "papermill": {
   "default_parameters": {},
   "duration": 1061.198858,
   "end_time": "2021-07-05T13:55:10.174988",
   "environment_variables": {},
   "exception": null,
   "input_path": "__notebook__.ipynb",
   "output_path": "__notebook__.ipynb",
   "parameters": {},
   "start_time": "2021-07-05T13:37:28.976130",
   "version": "2.3.3"
  }
 },
 "nbformat": 4,
 "nbformat_minor": 5
}
